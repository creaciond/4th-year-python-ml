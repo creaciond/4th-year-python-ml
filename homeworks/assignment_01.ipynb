{
 "cells": [
  {
   "cell_type": "markdown",
   "metadata": {},
   "source": [
    "# Assignment 1\n",
    "\n",
    "1. Реализовать Блум фильтр с помощью битового массива.\n",
    "\n",
    "Например, вы можете использовать [битовые операции](https://wiki.python.org/moin/BitwiseOperators) или библиотеку `bitarray`.\n",
    "\n",
    "2. Провести численный эксперимент при false positive rate  $fpr = 0.05$ и количестве объектов $S = 1 000 000$. \n",
    "\n",
    "Убедиться, что полученные на семинаре оптимальные параметры фильтра позволяют достичь заявленного false positive rate.\n",
    "Посчитать  $\\frac {\\epsilon - \\hat \\epsilon} \\epsilon$, где $\\hat \\epsilon$ - ваша экспериментальная оценка false positive rate. В качестве объектов используйте строки."
   ]
  },
  {
   "cell_type": "markdown",
   "metadata": {},
   "source": [
    "## Задание 1: _фильтр Блума_"
   ]
  },
  {
   "cell_type": "code",
   "execution_count": 1,
   "metadata": {},
   "outputs": [],
   "source": [
    "import random"
   ]
  },
  {
   "cell_type": "code",
   "execution_count": 2,
   "metadata": {},
   "outputs": [],
   "source": [
    "class BloomFilter:\n",
    "    \n",
    "    \"\"\"An instance of Bloom Filter.\n",
    "    \n",
    "    Params: \n",
    "    1) k - length of a filter,\n",
    "    2) hash_quantity - quantity of hash functions\n",
    "    \n",
    "    Methods:\n",
    "    1) insert(value) - given a variable, performs hashing \n",
    "    and makes the necessary changes to a bit array.\n",
    "    2) lookup(value) - given a variable, checks if it had \n",
    "    appeared before.\n",
    "    \"\"\"\n",
    "    \n",
    "    def __init__(self, k, hash_quantity):\n",
    "        self.k = k\n",
    "        self.array = [False] * self.k\n",
    "        self.hashes = []\n",
    "        for i in range(hash_quantity):\n",
    "            # hash function = (a * len(value) + b) mod c\n",
    "            a = random.randint(1,101)\n",
    "            b = random.randint(1,101)\n",
    "            c = random.randint(1, k)\n",
    "            hash_func = (a, b, c)\n",
    "            self.hashes.append(hash_func)\n",
    "    \n",
    "    def __repr__(self):\n",
    "        \"\"\"Print the resulting bit array: \n",
    "        1 -- True, 0 -- False.\n",
    "        :returns: \n",
    "        \"\"\"\n",
    "        array_str = \"\"\n",
    "        for item in self.array:\n",
    "            if item == True:\n",
    "                array_str += \"1\"\n",
    "            else:\n",
    "                array_str += \"0\"\n",
    "        return array_str\n",
    "    \n",
    "    def do_hash(self, value):\n",
    "        \"\"\"Performs the hashing of a given value and returns \n",
    "        the indices to be changed in the bit array.\"\"\"\n",
    "        value = len(value)\n",
    "        indices = []\n",
    "        for hash_func in self.hashes:\n",
    "            a, b, k = hash_func\n",
    "            res = ((a * value) + b) % self.k\n",
    "            indices.append(res)\n",
    "        return indices\n",
    "    \n",
    "    def insert(self, value):\n",
    "        indices = self.do_hash(value)\n",
    "        for ind in indices:\n",
    "            self.array[ind] = True\n",
    "    \n",
    "    def lookup(self, value):\n",
    "        indices = self.do_hash(value)\n",
    "        for ind in indices:\n",
    "            if self.array[ind] != True:\n",
    "                return False\n",
    "        return True"
   ]
  },
  {
   "cell_type": "markdown",
   "metadata": {},
   "source": [
    "## Задание 2: _эксперимент_"
   ]
  },
  {
   "cell_type": "markdown",
   "metadata": {},
   "source": [
    "Мы фиксируем $S = 1000000$ (кол-во элементов) и FPR $\\epsilon = 0.05$; получается, что \n",
    "$$ n = \\frac{1}{(\\ln 2)^2}\\cdot|S|\\cdot ln(\\frac{1}{\\epsilon}) \\\\\n",
    "n = \\frac{1}{(\\ln 2)^2}\\cdot 1000000 \\cdot ln(\\frac{1}{0.05}) \\\\\n",
    "n = 6.23522 \\cdot 10^6 \\approx 6 235 220,$$\n",
    "т.е. нам нужен фильтр Блума размером 6 235 220."
   ]
  },
  {
   "cell_type": "code",
   "execution_count": 3,
   "metadata": {},
   "outputs": [],
   "source": [
    "import string"
   ]
  },
  {
   "cell_type": "code",
   "execution_count": 4,
   "metadata": {},
   "outputs": [],
   "source": [
    "S = 1000000\n",
    "test_bf = BloomFilter(k=6235220, hash_quantity=3)"
   ]
  },
  {
   "cell_type": "markdown",
   "metadata": {},
   "source": [
    "Заполняем фильтр:"
   ]
  },
  {
   "cell_type": "code",
   "execution_count": 5,
   "metadata": {},
   "outputs": [],
   "source": [
    "def get_lines(S, *previous_set):\n",
    "    \n",
    "    lines = set()\n",
    "    chars = string.ascii_letters + string.digits + string.punctuation\n",
    "    \n",
    "    for i in range(S):\n",
    "        line_len = random.randint(1,101)\n",
    "        line = \"\".join(random.choices(chars, k=line_len))\n",
    "        if not (line in previous_set) or not previous_set:\n",
    "            lines.add(line)\n",
    "    return lines"
   ]
  },
  {
   "cell_type": "code",
   "execution_count": 6,
   "metadata": {},
   "outputs": [],
   "source": [
    "lines = get_lines(S)"
   ]
  },
  {
   "cell_type": "code",
   "execution_count": 7,
   "metadata": {},
   "outputs": [],
   "source": [
    "for line in lines:\n",
    "    test_bf.insert(line)"
   ]
  },
  {
   "cell_type": "markdown",
   "metadata": {},
   "source": [
    "**Проверка на false positives:** сгенерируем до 1 000 000 других строк, которых не было в предыдущем наборе, и проверим, сколько из них \"окажутся\" в фильтре."
   ]
  },
  {
   "cell_type": "code",
   "execution_count": 8,
   "metadata": {},
   "outputs": [
    {
     "name": "stdout",
     "output_type": "stream",
     "text": [
      "986040\n"
     ]
    }
   ],
   "source": [
    "new_lines = get_lines(S, lines)\n",
    "\n",
    "total = len(new_lines)\n",
    "f_p = 0\n",
    "\n",
    "print(total)"
   ]
  },
  {
   "cell_type": "code",
   "execution_count": 9,
   "metadata": {},
   "outputs": [
    {
     "name": "stdout",
     "output_type": "stream",
     "text": [
      "False positive rate is: 0.0\n"
     ]
    }
   ],
   "source": [
    "for line in new_lines:\n",
    "    if test_bf.lookup(line) == False:\n",
    "        print(\"False positive!\")\n",
    "        f_p += 1\n",
    "rate = f_p/total * 100\n",
    "print(\"False positive rate is: {}\".format(rate))"
   ]
  }
 ],
 "metadata": {
  "kernelspec": {
   "display_name": "Python 3",
   "language": "python",
   "name": "python3"
  },
  "language_info": {
   "codemirror_mode": {
    "name": "ipython",
    "version": 3
   },
   "file_extension": ".py",
   "mimetype": "text/x-python",
   "name": "python",
   "nbconvert_exporter": "python",
   "pygments_lexer": "ipython3",
   "version": "3.6.5"
  },
  "widgets": {
   "state": {},
   "version": "1.1.2"
  }
 },
 "nbformat": 4,
 "nbformat_minor": 2
}
